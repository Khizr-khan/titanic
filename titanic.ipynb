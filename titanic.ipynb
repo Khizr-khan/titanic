{
 "cells": [
  {
   "cell_type": "code",
   "execution_count": 1,
   "metadata": {},
   "outputs": [],
   "source": [
    "import pandas as pd\n",
    "import numpy as np\n",
    "import seaborn as sns\n",
    "import matplotlib.pyplot as plt"
   ]
  },
  {
   "cell_type": "code",
   "execution_count": 2,
   "metadata": {},
   "outputs": [],
   "source": [
    "train=pd.read_csv(\"train.csv\")"
   ]
  },
  {
   "cell_type": "code",
   "execution_count": 3,
   "metadata": {
    "scrolled": true
   },
   "outputs": [
    {
     "data": {
      "text/html": [
       "<div>\n",
       "<style scoped>\n",
       "    .dataframe tbody tr th:only-of-type {\n",
       "        vertical-align: middle;\n",
       "    }\n",
       "\n",
       "    .dataframe tbody tr th {\n",
       "        vertical-align: top;\n",
       "    }\n",
       "\n",
       "    .dataframe thead th {\n",
       "        text-align: right;\n",
       "    }\n",
       "</style>\n",
       "<table border=\"1\" class=\"dataframe\">\n",
       "  <thead>\n",
       "    <tr style=\"text-align: right;\">\n",
       "      <th></th>\n",
       "      <th>PassengerId</th>\n",
       "      <th>Survived</th>\n",
       "      <th>Pclass</th>\n",
       "      <th>Name</th>\n",
       "      <th>Sex</th>\n",
       "      <th>Age</th>\n",
       "      <th>SibSp</th>\n",
       "      <th>Parch</th>\n",
       "      <th>Ticket</th>\n",
       "      <th>Fare</th>\n",
       "      <th>Cabin</th>\n",
       "      <th>Embarked</th>\n",
       "    </tr>\n",
       "  </thead>\n",
       "  <tbody>\n",
       "    <tr>\n",
       "      <th>0</th>\n",
       "      <td>1</td>\n",
       "      <td>0</td>\n",
       "      <td>3</td>\n",
       "      <td>Braund, Mr. Owen Harris</td>\n",
       "      <td>male</td>\n",
       "      <td>22.0</td>\n",
       "      <td>1</td>\n",
       "      <td>0</td>\n",
       "      <td>A/5 21171</td>\n",
       "      <td>7.2500</td>\n",
       "      <td>NaN</td>\n",
       "      <td>S</td>\n",
       "    </tr>\n",
       "    <tr>\n",
       "      <th>1</th>\n",
       "      <td>2</td>\n",
       "      <td>1</td>\n",
       "      <td>1</td>\n",
       "      <td>Cumings, Mrs. John Bradley (Florence Briggs Th...</td>\n",
       "      <td>female</td>\n",
       "      <td>38.0</td>\n",
       "      <td>1</td>\n",
       "      <td>0</td>\n",
       "      <td>PC 17599</td>\n",
       "      <td>71.2833</td>\n",
       "      <td>C85</td>\n",
       "      <td>C</td>\n",
       "    </tr>\n",
       "    <tr>\n",
       "      <th>2</th>\n",
       "      <td>3</td>\n",
       "      <td>1</td>\n",
       "      <td>3</td>\n",
       "      <td>Heikkinen, Miss. Laina</td>\n",
       "      <td>female</td>\n",
       "      <td>26.0</td>\n",
       "      <td>0</td>\n",
       "      <td>0</td>\n",
       "      <td>STON/O2. 3101282</td>\n",
       "      <td>7.9250</td>\n",
       "      <td>NaN</td>\n",
       "      <td>S</td>\n",
       "    </tr>\n",
       "    <tr>\n",
       "      <th>3</th>\n",
       "      <td>4</td>\n",
       "      <td>1</td>\n",
       "      <td>1</td>\n",
       "      <td>Futrelle, Mrs. Jacques Heath (Lily May Peel)</td>\n",
       "      <td>female</td>\n",
       "      <td>35.0</td>\n",
       "      <td>1</td>\n",
       "      <td>0</td>\n",
       "      <td>113803</td>\n",
       "      <td>53.1000</td>\n",
       "      <td>C123</td>\n",
       "      <td>S</td>\n",
       "    </tr>\n",
       "    <tr>\n",
       "      <th>4</th>\n",
       "      <td>5</td>\n",
       "      <td>0</td>\n",
       "      <td>3</td>\n",
       "      <td>Allen, Mr. William Henry</td>\n",
       "      <td>male</td>\n",
       "      <td>35.0</td>\n",
       "      <td>0</td>\n",
       "      <td>0</td>\n",
       "      <td>373450</td>\n",
       "      <td>8.0500</td>\n",
       "      <td>NaN</td>\n",
       "      <td>S</td>\n",
       "    </tr>\n",
       "  </tbody>\n",
       "</table>\n",
       "</div>"
      ],
      "text/plain": [
       "   PassengerId  Survived  Pclass  \\\n",
       "0            1         0       3   \n",
       "1            2         1       1   \n",
       "2            3         1       3   \n",
       "3            4         1       1   \n",
       "4            5         0       3   \n",
       "\n",
       "                                                Name     Sex   Age  SibSp  \\\n",
       "0                            Braund, Mr. Owen Harris    male  22.0      1   \n",
       "1  Cumings, Mrs. John Bradley (Florence Briggs Th...  female  38.0      1   \n",
       "2                             Heikkinen, Miss. Laina  female  26.0      0   \n",
       "3       Futrelle, Mrs. Jacques Heath (Lily May Peel)  female  35.0      1   \n",
       "4                           Allen, Mr. William Henry    male  35.0      0   \n",
       "\n",
       "   Parch            Ticket     Fare Cabin Embarked  \n",
       "0      0         A/5 21171   7.2500   NaN        S  \n",
       "1      0          PC 17599  71.2833   C85        C  \n",
       "2      0  STON/O2. 3101282   7.9250   NaN        S  \n",
       "3      0            113803  53.1000  C123        S  \n",
       "4      0            373450   8.0500   NaN        S  "
      ]
     },
     "execution_count": 3,
     "metadata": {},
     "output_type": "execute_result"
    }
   ],
   "source": [
    "train.head()"
   ]
  },
  {
   "cell_type": "code",
   "execution_count": 4,
   "metadata": {},
   "outputs": [],
   "source": [
    "test=pd.read_csv(\"test.csv\")"
   ]
  },
  {
   "cell_type": "code",
   "execution_count": 5,
   "metadata": {},
   "outputs": [
    {
     "data": {
      "text/html": [
       "<div>\n",
       "<style scoped>\n",
       "    .dataframe tbody tr th:only-of-type {\n",
       "        vertical-align: middle;\n",
       "    }\n",
       "\n",
       "    .dataframe tbody tr th {\n",
       "        vertical-align: top;\n",
       "    }\n",
       "\n",
       "    .dataframe thead th {\n",
       "        text-align: right;\n",
       "    }\n",
       "</style>\n",
       "<table border=\"1\" class=\"dataframe\">\n",
       "  <thead>\n",
       "    <tr style=\"text-align: right;\">\n",
       "      <th></th>\n",
       "      <th>PassengerId</th>\n",
       "      <th>Pclass</th>\n",
       "      <th>Name</th>\n",
       "      <th>Sex</th>\n",
       "      <th>Age</th>\n",
       "      <th>SibSp</th>\n",
       "      <th>Parch</th>\n",
       "      <th>Ticket</th>\n",
       "      <th>Fare</th>\n",
       "      <th>Cabin</th>\n",
       "      <th>Embarked</th>\n",
       "    </tr>\n",
       "  </thead>\n",
       "  <tbody>\n",
       "    <tr>\n",
       "      <th>0</th>\n",
       "      <td>892</td>\n",
       "      <td>3</td>\n",
       "      <td>Kelly, Mr. James</td>\n",
       "      <td>male</td>\n",
       "      <td>34.5</td>\n",
       "      <td>0</td>\n",
       "      <td>0</td>\n",
       "      <td>330911</td>\n",
       "      <td>7.8292</td>\n",
       "      <td>NaN</td>\n",
       "      <td>Q</td>\n",
       "    </tr>\n",
       "    <tr>\n",
       "      <th>1</th>\n",
       "      <td>893</td>\n",
       "      <td>3</td>\n",
       "      <td>Wilkes, Mrs. James (Ellen Needs)</td>\n",
       "      <td>female</td>\n",
       "      <td>47.0</td>\n",
       "      <td>1</td>\n",
       "      <td>0</td>\n",
       "      <td>363272</td>\n",
       "      <td>7.0000</td>\n",
       "      <td>NaN</td>\n",
       "      <td>S</td>\n",
       "    </tr>\n",
       "    <tr>\n",
       "      <th>2</th>\n",
       "      <td>894</td>\n",
       "      <td>2</td>\n",
       "      <td>Myles, Mr. Thomas Francis</td>\n",
       "      <td>male</td>\n",
       "      <td>62.0</td>\n",
       "      <td>0</td>\n",
       "      <td>0</td>\n",
       "      <td>240276</td>\n",
       "      <td>9.6875</td>\n",
       "      <td>NaN</td>\n",
       "      <td>Q</td>\n",
       "    </tr>\n",
       "    <tr>\n",
       "      <th>3</th>\n",
       "      <td>895</td>\n",
       "      <td>3</td>\n",
       "      <td>Wirz, Mr. Albert</td>\n",
       "      <td>male</td>\n",
       "      <td>27.0</td>\n",
       "      <td>0</td>\n",
       "      <td>0</td>\n",
       "      <td>315154</td>\n",
       "      <td>8.6625</td>\n",
       "      <td>NaN</td>\n",
       "      <td>S</td>\n",
       "    </tr>\n",
       "    <tr>\n",
       "      <th>4</th>\n",
       "      <td>896</td>\n",
       "      <td>3</td>\n",
       "      <td>Hirvonen, Mrs. Alexander (Helga E Lindqvist)</td>\n",
       "      <td>female</td>\n",
       "      <td>22.0</td>\n",
       "      <td>1</td>\n",
       "      <td>1</td>\n",
       "      <td>3101298</td>\n",
       "      <td>12.2875</td>\n",
       "      <td>NaN</td>\n",
       "      <td>S</td>\n",
       "    </tr>\n",
       "  </tbody>\n",
       "</table>\n",
       "</div>"
      ],
      "text/plain": [
       "   PassengerId  Pclass                                          Name     Sex  \\\n",
       "0          892       3                              Kelly, Mr. James    male   \n",
       "1          893       3              Wilkes, Mrs. James (Ellen Needs)  female   \n",
       "2          894       2                     Myles, Mr. Thomas Francis    male   \n",
       "3          895       3                              Wirz, Mr. Albert    male   \n",
       "4          896       3  Hirvonen, Mrs. Alexander (Helga E Lindqvist)  female   \n",
       "\n",
       "    Age  SibSp  Parch   Ticket     Fare Cabin Embarked  \n",
       "0  34.5      0      0   330911   7.8292   NaN        Q  \n",
       "1  47.0      1      0   363272   7.0000   NaN        S  \n",
       "2  62.0      0      0   240276   9.6875   NaN        Q  \n",
       "3  27.0      0      0   315154   8.6625   NaN        S  \n",
       "4  22.0      1      1  3101298  12.2875   NaN        S  "
      ]
     },
     "execution_count": 5,
     "metadata": {},
     "output_type": "execute_result"
    }
   ],
   "source": [
    "test.head()"
   ]
  },
  {
   "cell_type": "code",
   "execution_count": 6,
   "metadata": {},
   "outputs": [],
   "source": [
    "Id=test['PassengerId'].values"
   ]
  },
  {
   "cell_type": "code",
   "execution_count": 7,
   "metadata": {},
   "outputs": [
    {
     "data": {
      "text/plain": [
       "PassengerId      0\n",
       "Survived         0\n",
       "Pclass           0\n",
       "Name             0\n",
       "Sex              0\n",
       "Age            177\n",
       "SibSp            0\n",
       "Parch            0\n",
       "Ticket           0\n",
       "Fare             0\n",
       "Cabin          687\n",
       "Embarked         2\n",
       "dtype: int64"
      ]
     },
     "execution_count": 7,
     "metadata": {},
     "output_type": "execute_result"
    }
   ],
   "source": [
    "train.isnull().sum()"
   ]
  },
  {
   "cell_type": "code",
   "execution_count": 8,
   "metadata": {},
   "outputs": [
    {
     "data": {
      "text/plain": [
       "PassengerId      0\n",
       "Pclass           0\n",
       "Name             0\n",
       "Sex              0\n",
       "Age             86\n",
       "SibSp            0\n",
       "Parch            0\n",
       "Ticket           0\n",
       "Fare             1\n",
       "Cabin          327\n",
       "Embarked         0\n",
       "dtype: int64"
      ]
     },
     "execution_count": 8,
     "metadata": {},
     "output_type": "execute_result"
    }
   ],
   "source": [
    "test.isnull().sum()"
   ]
  },
  {
   "cell_type": "code",
   "execution_count": 9,
   "metadata": {},
   "outputs": [
    {
     "data": {
      "text/plain": [
       "418"
      ]
     },
     "execution_count": 9,
     "metadata": {},
     "output_type": "execute_result"
    }
   ],
   "source": [
    "len(train)\n",
    "len(test)"
   ]
  },
  {
   "cell_type": "code",
   "execution_count": 10,
   "metadata": {},
   "outputs": [],
   "source": [
    "train.drop(columns=['Name','PassengerId'],inplace=True)\n",
    "test.drop(columns=['Name','PassengerId'],inplace=True)"
   ]
  },
  {
   "cell_type": "code",
   "execution_count": 11,
   "metadata": {},
   "outputs": [
    {
     "data": {
      "text/plain": [
       "<matplotlib.axes._subplots.AxesSubplot at 0x1c466e9f8d0>"
      ]
     },
     "execution_count": 11,
     "metadata": {},
     "output_type": "execute_result"
    },
    {
     "data": {
      "image/png": "[encoded data removed]",
      "text/plain": [
       "<Figure size 432x288 with 1 Axes>"
      ]
     },
     "metadata": {
      "needs_background": "light"
     },
     "output_type": "display_data"
    }
   ],
   "source": [
    "pd.DataFrame(train.corr().sort_values(['Age']))['Age'].drop('Age').plot(kind='bar')"
   ]
  },
  {
   "cell_type": "code",
   "execution_count": 12,
   "metadata": {},
   "outputs": [
    {
     "data": {
      "text/plain": [
       "<matplotlib.axes._subplots.AxesSubplot at 0x1c466f6feb8>"
      ]
     },
     "execution_count": 12,
     "metadata": {},
     "output_type": "execute_result"
    },
    {
     "data": {
      "image/png": "[encoded data removed]",
      "text/plain": [
       "<Figure size 432x288 with 1 Axes>"
      ]
     },
     "metadata": {
      "needs_background": "light"
     },
     "output_type": "display_data"
    }
   ],
   "source": [
    "sns.boxplot(x='Pclass',y='Age',data=train)"
   ]
  },
  {
   "cell_type": "code",
   "execution_count": 13,
   "metadata": {},
   "outputs": [
    {
     "data": {
      "text/plain": [
       "Pclass\n",
       "1    38.233441\n",
       "2    29.877630\n",
       "3    25.140620\n",
       "Name: Age, dtype: float64"
      ]
     },
     "execution_count": 13,
     "metadata": {},
     "output_type": "execute_result"
    }
   ],
   "source": [
    "fillage=train.groupby('Pclass').mean()['Age']\n",
    "fillage"
   ]
  },
  {
   "cell_type": "code",
   "execution_count": 14,
   "metadata": {},
   "outputs": [
    {
     "data": {
      "text/plain": [
       "0      22.0\n",
       "1      38.0\n",
       "2      26.0\n",
       "3      35.0\n",
       "4      35.0\n",
       "       ... \n",
       "886    27.0\n",
       "887    19.0\n",
       "888     NaN\n",
       "889    26.0\n",
       "890    32.0\n",
       "Name: Age, Length: 891, dtype: float64"
      ]
     },
     "execution_count": 14,
     "metadata": {},
     "output_type": "execute_result"
    }
   ],
   "source": [
    "train['Age']"
   ]
  },
  {
   "cell_type": "code",
   "execution_count": 15,
   "metadata": {},
   "outputs": [],
   "source": [
    "def fill_age(col1,col2):\n",
    "    if pd.isnull(col2):\n",
    "        return fillage[col1]\n",
    "    else:\n",
    "        return col2"
   ]
  },
  {
   "cell_type": "code",
   "execution_count": 16,
   "metadata": {},
   "outputs": [],
   "source": [
    "train['Age']=train.apply(lambda x: fill_age(x['Pclass'],x['Age']),axis=1)\n",
    "test['Age']=test.apply(lambda x: fill_age(x['Pclass'],x['Age']),axis=1)"
   ]
  },
  {
   "cell_type": "code",
   "execution_count": 17,
   "metadata": {},
   "outputs": [
    {
     "data": {
      "text/plain": [
       "0      22.00000\n",
       "1      38.00000\n",
       "2      26.00000\n",
       "3      35.00000\n",
       "4      35.00000\n",
       "         ...   \n",
       "886    27.00000\n",
       "887    19.00000\n",
       "888    25.14062\n",
       "889    26.00000\n",
       "890    32.00000\n",
       "Name: Age, Length: 891, dtype: float64"
      ]
     },
     "execution_count": 17,
     "metadata": {},
     "output_type": "execute_result"
    }
   ],
   "source": [
    "train['Age']"
   ]
  },
  {
   "cell_type": "code",
   "execution_count": 18,
   "metadata": {},
   "outputs": [
    {
     "data": {
      "text/html": [
       "<div>\n",
       "<style scoped>\n",
       "    .dataframe tbody tr th:only-of-type {\n",
       "        vertical-align: middle;\n",
       "    }\n",
       "\n",
       "    .dataframe tbody tr th {\n",
       "        vertical-align: top;\n",
       "    }\n",
       "\n",
       "    .dataframe thead th {\n",
       "        text-align: right;\n",
       "    }\n",
       "</style>\n",
       "<table border=\"1\" class=\"dataframe\">\n",
       "  <thead>\n",
       "    <tr style=\"text-align: right;\">\n",
       "      <th></th>\n",
       "      <th>Survived</th>\n",
       "      <th>Pclass</th>\n",
       "      <th>Sex</th>\n",
       "      <th>Age</th>\n",
       "      <th>SibSp</th>\n",
       "      <th>Parch</th>\n",
       "      <th>Ticket</th>\n",
       "      <th>Fare</th>\n",
       "      <th>Cabin</th>\n",
       "      <th>Embarked</th>\n",
       "    </tr>\n",
       "  </thead>\n",
       "  <tbody>\n",
       "    <tr>\n",
       "      <th>0</th>\n",
       "      <td>0</td>\n",
       "      <td>3</td>\n",
       "      <td>male</td>\n",
       "      <td>22.0</td>\n",
       "      <td>1</td>\n",
       "      <td>0</td>\n",
       "      <td>A/5 21171</td>\n",
       "      <td>7.2500</td>\n",
       "      <td>NaN</td>\n",
       "      <td>S</td>\n",
       "    </tr>\n",
       "    <tr>\n",
       "      <th>1</th>\n",
       "      <td>1</td>\n",
       "      <td>1</td>\n",
       "      <td>female</td>\n",
       "      <td>38.0</td>\n",
       "      <td>1</td>\n",
       "      <td>0</td>\n",
       "      <td>PC 17599</td>\n",
       "      <td>71.2833</td>\n",
       "      <td>C85</td>\n",
       "      <td>C</td>\n",
       "    </tr>\n",
       "    <tr>\n",
       "      <th>2</th>\n",
       "      <td>1</td>\n",
       "      <td>3</td>\n",
       "      <td>female</td>\n",
       "      <td>26.0</td>\n",
       "      <td>0</td>\n",
       "      <td>0</td>\n",
       "      <td>STON/O2. 3101282</td>\n",
       "      <td>7.9250</td>\n",
       "      <td>NaN</td>\n",
       "      <td>S</td>\n",
       "    </tr>\n",
       "    <tr>\n",
       "      <th>3</th>\n",
       "      <td>1</td>\n",
       "      <td>1</td>\n",
       "      <td>female</td>\n",
       "      <td>35.0</td>\n",
       "      <td>1</td>\n",
       "      <td>0</td>\n",
       "      <td>113803</td>\n",
       "      <td>53.1000</td>\n",
       "      <td>C123</td>\n",
       "      <td>S</td>\n",
       "    </tr>\n",
       "    <tr>\n",
       "      <th>4</th>\n",
       "      <td>0</td>\n",
       "      <td>3</td>\n",
       "      <td>male</td>\n",
       "      <td>35.0</td>\n",
       "      <td>0</td>\n",
       "      <td>0</td>\n",
       "      <td>373450</td>\n",
       "      <td>8.0500</td>\n",
       "      <td>NaN</td>\n",
       "      <td>S</td>\n",
       "    </tr>\n",
       "  </tbody>\n",
       "</table>\n",
       "</div>"
      ],
      "text/plain": [
       "   Survived  Pclass     Sex   Age  SibSp  Parch            Ticket     Fare  \\\n",
       "0         0       3    male  22.0      1      0         A/5 21171   7.2500   \n",
       "1         1       1  female  38.0      1      0          PC 17599  71.2833   \n",
       "2         1       3  female  26.0      0      0  STON/O2. 3101282   7.9250   \n",
       "3         1       1  female  35.0      1      0            113803  53.1000   \n",
       "4         0       3    male  35.0      0      0            373450   8.0500   \n",
       "\n",
       "  Cabin Embarked  \n",
       "0   NaN        S  \n",
       "1   C85        C  \n",
       "2   NaN        S  \n",
       "3  C123        S  \n",
       "4   NaN        S  "
      ]
     },
     "execution_count": 18,
     "metadata": {},
     "output_type": "execute_result"
    }
   ],
   "source": [
    "train.head()"
   ]
  },
  {
   "cell_type": "code",
   "execution_count": 19,
   "metadata": {},
   "outputs": [],
   "source": [
    "train['Relatives']=train['SibSp']+-train['Parch']\n",
    "test['Relatives']=test['SibSp']+test['Parch']"
   ]
  },
  {
   "cell_type": "code",
   "execution_count": 20,
   "metadata": {},
   "outputs": [],
   "source": [
    "train.drop(columns=['SibSp','Parch'],inplace=True)\n",
    "test.drop(columns=['SibSp','Parch'],inplace=True)"
   ]
  },
  {
   "cell_type": "code",
   "execution_count": 21,
   "metadata": {},
   "outputs": [],
   "source": [
    "train.drop(columns=['Ticket','Cabin'],inplace=True)\n",
    "test.drop(columns=['Ticket','Cabin'],inplace=True)"
   ]
  },
  {
   "cell_type": "code",
   "execution_count": 22,
   "metadata": {},
   "outputs": [
    {
     "data": {
      "text/plain": [
       "Survived     0\n",
       "Pclass       0\n",
       "Sex          0\n",
       "Age          0\n",
       "Fare         0\n",
       "Embarked     2\n",
       "Relatives    0\n",
       "dtype: int64"
      ]
     },
     "execution_count": 22,
     "metadata": {},
     "output_type": "execute_result"
    }
   ],
   "source": [
    "train.isnull().sum()"
   ]
  },
  {
   "cell_type": "code",
   "execution_count": 23,
   "metadata": {},
   "outputs": [],
   "source": [
    "train.dropna(inplace=True)"
   ]
  },
  {
   "cell_type": "code",
   "execution_count": 24,
   "metadata": {},
   "outputs": [
    {
     "data": {
      "text/plain": [
       "Survived     0\n",
       "Pclass       0\n",
       "Sex          0\n",
       "Age          0\n",
       "Fare         0\n",
       "Embarked     0\n",
       "Relatives    0\n",
       "dtype: int64"
      ]
     },
     "execution_count": 24,
     "metadata": {},
     "output_type": "execute_result"
    }
   ],
   "source": [
    "train.isnull().sum()"
   ]
  },
  {
   "cell_type": "code",
   "execution_count": 25,
   "metadata": {},
   "outputs": [],
   "source": [
    "train_dummies=pd.get_dummies(train[['Sex','Embarked']],drop_first=True)\n",
    "test_dummies=pd.get_dummies(test[['Sex','Embarked']],drop_first=True)"
   ]
  },
  {
   "cell_type": "code",
   "execution_count": 26,
   "metadata": {},
   "outputs": [],
   "source": [
    "train=pd.concat([train,train_dummies],axis=1)\n",
    "test=pd.concat([test,test_dummies],axis=1)"
   ]
  },
  {
   "cell_type": "code",
   "execution_count": 27,
   "metadata": {},
   "outputs": [],
   "source": [
    "train.drop(columns=['Sex','Embarked'],inplace=True)\n",
    "test.drop(columns=['Sex','Embarked'],inplace=True)"
   ]
  },
  {
   "cell_type": "code",
   "execution_count": 28,
   "metadata": {},
   "outputs": [
    {
     "data": {
      "text/plain": [
       "Survived      0\n",
       "Pclass        0\n",
       "Age           0\n",
       "Fare          0\n",
       "Relatives     0\n",
       "Sex_male      0\n",
       "Embarked_Q    0\n",
       "Embarked_S    0\n",
       "dtype: int64"
      ]
     },
     "execution_count": 28,
     "metadata": {},
     "output_type": "execute_result"
    }
   ],
   "source": [
    "train.isnull().sum()"
   ]
  },
  {
   "cell_type": "code",
   "execution_count": 29,
   "metadata": {},
   "outputs": [
    {
     "data": {
      "text/plain": [
       "Pclass        0\n",
       "Age           0\n",
       "Fare          1\n",
       "Relatives     0\n",
       "Sex_male      0\n",
       "Embarked_Q    0\n",
       "Embarked_S    0\n",
       "dtype: int64"
      ]
     },
     "execution_count": 29,
     "metadata": {},
     "output_type": "execute_result"
    }
   ],
   "source": [
    "test.isnull().sum()"
   ]
  },
  {
   "cell_type": "code",
   "execution_count": 30,
   "metadata": {},
   "outputs": [],
   "source": [
    "test['Fare']=test['Fare'].replace(np.nan,test['Fare'].median())"
   ]
  },
  {
   "cell_type": "code",
   "execution_count": 31,
   "metadata": {},
   "outputs": [],
   "source": [
    "X=train.drop(columns='Survived').values\n",
    "Y=train['Survived']"
   ]
  },
  {
   "cell_type": "markdown",
   "metadata": {},
   "source": [
    "# Random Forest"
   ]
  },
  {
   "cell_type": "code",
   "execution_count": 32,
   "metadata": {},
   "outputs": [],
   "source": [
    "from sklearn.ensemble import RandomForestClassifier\n",
    "from sklearn.model_selection import train_test_split"
   ]
  },
  {
   "cell_type": "code",
   "execution_count": 33,
   "metadata": {},
   "outputs": [],
   "source": [
    "model_rfc=RandomForestClassifier(n_estimators=300)"
   ]
  },
  {
   "cell_type": "code",
   "execution_count": 34,
   "metadata": {},
   "outputs": [],
   "source": [
    "X_train,X_test,Y_train,Y_test=train_test_split(X,Y,test_size=0.1)"
   ]
  },
  {
   "cell_type": "code",
   "execution_count": 35,
   "metadata": {},
   "outputs": [],
   "source": [
    "model_rfc.fit(X_train,Y_train)\n",
    "Y_predicted_rfc=model_rfc.predict(X_test)"
   ]
  },
  {
   "cell_type": "code",
   "execution_count": 36,
   "metadata": {},
   "outputs": [],
   "source": [
    "from sklearn.metrics import confusion_matrix,classification_report"
   ]
  },
  {
   "cell_type": "code",
   "execution_count": 37,
   "metadata": {},
   "outputs": [
    {
     "name": "stdout",
     "output_type": "stream",
     "text": [
      "[[48  9]\n",
      " [ 6 26]]\n",
      "              precision    recall  f1-score   support\n",
      "\n",
      "           0       0.89      0.84      0.86        57\n",
      "           1       0.74      0.81      0.78        32\n",
      "\n",
      "    accuracy                           0.83        89\n",
      "   macro avg       0.82      0.83      0.82        89\n",
      "weighted avg       0.84      0.83      0.83        89\n",
      "\n"
     ]
    }
   ],
   "source": [
    "print(confusion_matrix(Y_test,Y_predicted_rfc))\n",
    "print(classification_report(Y_test,Y_predicted_rfc))"
   ]
  },
  {
   "cell_type": "markdown",
   "metadata": {},
   "source": [
    "# Support Vector Classifier"
   ]
  },
  {
   "cell_type": "code",
   "execution_count": 38,
   "metadata": {},
   "outputs": [],
   "source": [
    "from sklearn.svm import SVC"
   ]
  },
  {
   "cell_type": "code",
   "execution_count": 39,
   "metadata": {},
   "outputs": [],
   "source": [
    "model_svc=SVC()\n",
    "model_svc.fit(X_train,Y_train)\n",
    "Y_predicted_svc=model_svc.predict(X_test)"
   ]
  },
  {
   "cell_type": "code",
   "execution_count": 40,
   "metadata": {},
   "outputs": [
    {
     "name": "stdout",
     "output_type": "stream",
     "text": [
      "[[54  3]\n",
      " [23  9]]\n",
      "              precision    recall  f1-score   support\n",
      "\n",
      "           0       0.70      0.95      0.81        57\n",
      "           1       0.75      0.28      0.41        32\n",
      "\n",
      "    accuracy                           0.71        89\n",
      "   macro avg       0.73      0.61      0.61        89\n",
      "weighted avg       0.72      0.71      0.66        89\n",
      "\n"
     ]
    }
   ],
   "source": [
    "print(confusion_matrix(Y_test,Y_predicted_svc))\n",
    "print(classification_report(Y_test,Y_predicted_svc))"
   ]
  },
  {
   "cell_type": "markdown",
   "metadata": {},
   "source": [
    "# ANN"
   ]
  },
  {
   "cell_type": "code",
   "execution_count": 41,
   "metadata": {},
   "outputs": [],
   "source": [
    "from tensorflow.keras.models import Sequential\n",
    "from tensorflow.keras.layers import Dense"
   ]
  },
  {
   "cell_type": "code",
   "execution_count": 42,
   "metadata": {},
   "outputs": [],
   "source": [
    "model_nn=Sequential()\n",
    "model_nn.add(Dense(16,activation='relu'))\n",
    "model_nn.add(Dense(8,activation='relu'))\n",
    "model_nn.add(Dense(4,activation='relu'))\n",
    "model_nn.add(Dense(1,activation='sigmoid'))\n",
    "model_nn.compile(optimizer='adam',loss='binary_crossentropy',metrics=['accuracy'])"
   ]
  },
  {
   "cell_type": "code",
   "execution_count": 43,
   "metadata": {},
   "outputs": [],
   "source": [
    "from tensorflow.keras.callbacks import EarlyStopping\n",
    "early_stop=EarlyStopping(monitor='val_loss',patience=20)"
   ]
  },
  {
   "cell_type": "code",
   "execution_count": 44,
   "metadata": {},
   "outputs": [
    {
     "name": "stdout",
     "output_type": "stream",
     "text": [
      "Train on 640 samples, validate on 160 samples\n",
      "Epoch 1/100\n",
      "640/640 [==============================] - 1s 888us/sample - loss: 0.6873 - accuracy: 0.6187 - val_loss: 0.6710 - val_accuracy: 0.6938\n",
      "Epoch 2/100\n",
      "640/640 [==============================] - 0s 64us/sample - loss: 0.6846 - accuracy: 0.6547 - val_loss: 0.6682 - val_accuracy: 0.7688\n",
      "Epoch 3/100\n",
      "640/640 [==============================] - 0s 57us/sample - loss: 0.6825 - accuracy: 0.6594 - val_loss: 0.6660 - val_accuracy: 0.7500\n",
      "Epoch 4/100\n",
      "640/640 [==============================] - 0s 58us/sample - loss: 0.6801 - accuracy: 0.6625 - val_loss: 0.6626 - val_accuracy: 0.7563\n",
      "Epoch 5/100\n",
      "640/640 [==============================] - 0s 58us/sample - loss: 0.6787 - accuracy: 0.6562 - val_loss: 0.6606 - val_accuracy: 0.7312\n",
      "Epoch 6/100\n",
      "640/640 [==============================] - 0s 51us/sample - loss: 0.6760 - accuracy: 0.6547 - val_loss: 0.6574 - val_accuracy: 0.7312\n",
      "Epoch 7/100\n",
      "640/640 [==============================] - 0s 60us/sample - loss: 0.6742 - accuracy: 0.6562 - val_loss: 0.6547 - val_accuracy: 0.7375\n",
      "Epoch 8/100\n",
      "640/640 [==============================] - 0s 50us/sample - loss: 0.6720 - accuracy: 0.6531 - val_loss: 0.6507 - val_accuracy: 0.7437\n",
      "Epoch 9/100\n",
      "640/640 [==============================] - 0s 63us/sample - loss: 0.6703 - accuracy: 0.6516 - val_loss: 0.6480 - val_accuracy: 0.7375\n",
      "Epoch 10/100\n",
      "640/640 [==============================] - 0s 52us/sample - loss: 0.6684 - accuracy: 0.6578 - val_loss: 0.6460 - val_accuracy: 0.7437\n",
      "Epoch 11/100\n",
      "640/640 [==============================] - 0s 62us/sample - loss: 0.6671 - accuracy: 0.6578 - val_loss: 0.6451 - val_accuracy: 0.7500\n",
      "Epoch 12/100\n",
      "640/640 [==============================] - 0s 52us/sample - loss: 0.6649 - accuracy: 0.6562 - val_loss: 0.6410 - val_accuracy: 0.7437\n",
      "Epoch 13/100\n",
      "640/640 [==============================] - ETA: 0s - loss: 0.6718 - accuracy: 0.71 - 0s 55us/sample - loss: 0.6634 - accuracy: 0.6578 - val_loss: 0.6389 - val_accuracy: 0.7500\n",
      "Epoch 14/100\n",
      "640/640 [==============================] - 0s 53us/sample - loss: 0.6618 - accuracy: 0.6578 - val_loss: 0.6363 - val_accuracy: 0.7500\n",
      "Epoch 15/100\n",
      "640/640 [==============================] - 0s 56us/sample - loss: 0.6604 - accuracy: 0.6578 - val_loss: 0.6331 - val_accuracy: 0.7500\n",
      "Epoch 16/100\n",
      "640/640 [==============================] - 0s 52us/sample - loss: 0.6585 - accuracy: 0.6641 - val_loss: 0.6334 - val_accuracy: 0.7437\n",
      "Epoch 17/100\n",
      "640/640 [==============================] - 0s 56us/sample - loss: 0.6576 - accuracy: 0.6703 - val_loss: 0.6306 - val_accuracy: 0.7437\n",
      "Epoch 18/100\n",
      "640/640 [==============================] - 0s 58us/sample - loss: 0.6555 - accuracy: 0.6656 - val_loss: 0.6274 - val_accuracy: 0.7437\n",
      "Epoch 19/100\n",
      "640/640 [==============================] - 0s 51us/sample - loss: 0.6544 - accuracy: 0.6703 - val_loss: 0.6272 - val_accuracy: 0.7437\n",
      "Epoch 20/100\n",
      "640/640 [==============================] - 0s 55us/sample - loss: 0.6526 - accuracy: 0.6672 - val_loss: 0.6227 - val_accuracy: 0.7437\n",
      "Epoch 21/100\n",
      "640/640 [==============================] - 0s 55us/sample - loss: 0.6509 - accuracy: 0.6672 - val_loss: 0.6215 - val_accuracy: 0.7437\n",
      "Epoch 22/100\n",
      "640/640 [==============================] - 0s 52us/sample - loss: 0.6501 - accuracy: 0.6687 - val_loss: 0.6220 - val_accuracy: 0.7312\n",
      "Epoch 23/100\n",
      "640/640 [==============================] - 0s 56us/sample - loss: 0.6482 - accuracy: 0.6766 - val_loss: 0.6182 - val_accuracy: 0.7437\n",
      "Epoch 24/100\n",
      "640/640 [==============================] - 0s 55us/sample - loss: 0.6465 - accuracy: 0.6672 - val_loss: 0.6171 - val_accuracy: 0.7375\n",
      "Epoch 25/100\n",
      "640/640 [==============================] - 0s 56us/sample - loss: 0.6450 - accuracy: 0.6656 - val_loss: 0.6133 - val_accuracy: 0.7437\n",
      "Epoch 26/100\n",
      "640/640 [==============================] - 0s 58us/sample - loss: 0.6416 - accuracy: 0.6719 - val_loss: 0.5752 - val_accuracy: 0.7375\n",
      "Epoch 27/100\n",
      "640/640 [==============================] - 0s 53us/sample - loss: 0.5922 - accuracy: 0.6812 - val_loss: 0.5121 - val_accuracy: 0.7312\n",
      "Epoch 28/100\n",
      "640/640 [==============================] - 0s 56us/sample - loss: 0.6730 - accuracy: 0.6641 - val_loss: 0.5211 - val_accuracy: 0.7750\n",
      "Epoch 29/100\n",
      "640/640 [==============================] - 0s 56us/sample - loss: 0.5940 - accuracy: 0.6594 - val_loss: 0.5000 - val_accuracy: 0.7688\n",
      "Epoch 30/100\n",
      "640/640 [==============================] - 0s 53us/sample - loss: 0.5833 - accuracy: 0.6750 - val_loss: 0.4942 - val_accuracy: 0.7500\n",
      "Epoch 31/100\n",
      "640/640 [==============================] - 0s 50us/sample - loss: 0.5776 - accuracy: 0.6750 - val_loss: 0.5049 - val_accuracy: 0.7437\n",
      "Epoch 32/100\n",
      "640/640 [==============================] - 0s 55us/sample - loss: 0.5772 - accuracy: 0.6750 - val_loss: 0.4962 - val_accuracy: 0.7312\n",
      "Epoch 33/100\n",
      "640/640 [==============================] - 0s 52us/sample - loss: 0.5722 - accuracy: 0.6781 - val_loss: 0.5059 - val_accuracy: 0.7375\n",
      "Epoch 34/100\n",
      "640/640 [==============================] - 0s 58us/sample - loss: 0.5707 - accuracy: 0.6781 - val_loss: 0.4906 - val_accuracy: 0.7312\n",
      "Epoch 35/100\n",
      "640/640 [==============================] - 0s 56us/sample - loss: 0.5675 - accuracy: 0.6922 - val_loss: 0.4928 - val_accuracy: 0.7250\n",
      "Epoch 36/100\n",
      "640/640 [==============================] - 0s 48us/sample - loss: 0.5661 - accuracy: 0.6875 - val_loss: 0.4886 - val_accuracy: 0.7312\n",
      "Epoch 37/100\n",
      "640/640 [==============================] - 0s 52us/sample - loss: 0.5643 - accuracy: 0.6906 - val_loss: 0.4868 - val_accuracy: 0.7312\n",
      "Epoch 38/100\n",
      "640/640 [==============================] - 0s 48us/sample - loss: 0.5622 - accuracy: 0.6922 - val_loss: 0.4874 - val_accuracy: 0.7500\n",
      "Epoch 39/100\n",
      "640/640 [==============================] - 0s 50us/sample - loss: 0.5613 - accuracy: 0.6812 - val_loss: 0.4818 - val_accuracy: 0.7563\n",
      "Epoch 40/100\n",
      "640/640 [==============================] - 0s 53us/sample - loss: 0.5589 - accuracy: 0.6875 - val_loss: 0.4802 - val_accuracy: 0.7375\n",
      "Epoch 41/100\n",
      "640/640 [==============================] - 0s 52us/sample - loss: 0.5595 - accuracy: 0.6859 - val_loss: 0.4783 - val_accuracy: 0.7375\n",
      "Epoch 42/100\n",
      "640/640 [==============================] - 0s 52us/sample - loss: 0.5568 - accuracy: 0.6844 - val_loss: 0.4709 - val_accuracy: 0.7500\n",
      "Epoch 43/100\n",
      "640/640 [==============================] - 0s 52us/sample - loss: 0.5528 - accuracy: 0.7031 - val_loss: 0.4794 - val_accuracy: 0.7812\n",
      "Epoch 44/100\n",
      "640/640 [==============================] - 0s 47us/sample - loss: 0.5489 - accuracy: 0.7047 - val_loss: 0.4732 - val_accuracy: 0.7812\n",
      "Epoch 45/100\n",
      "640/640 [==============================] - 0s 52us/sample - loss: 0.5450 - accuracy: 0.7063 - val_loss: 0.4653 - val_accuracy: 0.7812\n",
      "Epoch 46/100\n",
      "640/640 [==============================] - 0s 48us/sample - loss: 0.5416 - accuracy: 0.7125 - val_loss: 0.4591 - val_accuracy: 0.7875\n",
      "Epoch 47/100\n",
      "640/640 [==============================] - 0s 53us/sample - loss: 0.5333 - accuracy: 0.7172 - val_loss: 0.4570 - val_accuracy: 0.7812\n",
      "Epoch 48/100\n",
      "640/640 [==============================] - 0s 49us/sample - loss: 0.5288 - accuracy: 0.7203 - val_loss: 0.4547 - val_accuracy: 0.7812\n",
      "Epoch 49/100\n",
      "640/640 [==============================] - 0s 53us/sample - loss: 0.5221 - accuracy: 0.7391 - val_loss: 0.4524 - val_accuracy: 0.7937\n",
      "Epoch 50/100\n",
      "640/640 [==============================] - 0s 48us/sample - loss: 0.5223 - accuracy: 0.7312 - val_loss: 0.4412 - val_accuracy: 0.7812\n",
      "Epoch 51/100\n",
      "640/640 [==============================] - 0s 51us/sample - loss: 0.5147 - accuracy: 0.7437 - val_loss: 0.4507 - val_accuracy: 0.8062\n",
      "Epoch 52/100\n",
      "640/640 [==============================] - 0s 50us/sample - loss: 0.5167 - accuracy: 0.7625 - val_loss: 0.4370 - val_accuracy: 0.8062\n",
      "Epoch 53/100\n",
      "640/640 [==============================] - 0s 48us/sample - loss: 0.5090 - accuracy: 0.7672 - val_loss: 0.4512 - val_accuracy: 0.8062\n",
      "Epoch 54/100\n",
      "640/640 [==============================] - 0s 53us/sample - loss: 0.5070 - accuracy: 0.7656 - val_loss: 0.4314 - val_accuracy: 0.8313\n",
      "Epoch 55/100\n",
      "640/640 [==============================] - 0s 52us/sample - loss: 0.5137 - accuracy: 0.7688 - val_loss: 0.4389 - val_accuracy: 0.8188\n",
      "Epoch 56/100\n"
     ]
    },
    {
     "name": "stdout",
     "output_type": "stream",
     "text": [
      "640/640 [==============================] - 0s 50us/sample - loss: 0.5061 - accuracy: 0.7922 - val_loss: 0.4465 - val_accuracy: 0.8062\n",
      "Epoch 57/100\n",
      "640/640 [==============================] - 0s 50us/sample - loss: 0.5130 - accuracy: 0.7594 - val_loss: 0.4546 - val_accuracy: 0.8250\n",
      "Epoch 58/100\n",
      "640/640 [==============================] - 0s 47us/sample - loss: 0.5102 - accuracy: 0.7766 - val_loss: 0.4421 - val_accuracy: 0.8125\n",
      "Epoch 59/100\n",
      "640/640 [==============================] - 0s 52us/sample - loss: 0.5069 - accuracy: 0.7766 - val_loss: 0.4408 - val_accuracy: 0.8313\n",
      "Epoch 60/100\n",
      "640/640 [==============================] - 0s 49us/sample - loss: 0.5042 - accuracy: 0.7703 - val_loss: 0.4711 - val_accuracy: 0.7875\n",
      "Epoch 61/100\n",
      "640/640 [==============================] - 0s 50us/sample - loss: 0.4936 - accuracy: 0.7828 - val_loss: 0.4392 - val_accuracy: 0.8000\n",
      "Epoch 62/100\n",
      "640/640 [==============================] - 0s 50us/sample - loss: 0.4981 - accuracy: 0.7781 - val_loss: 0.4381 - val_accuracy: 0.8188\n",
      "Epoch 63/100\n",
      "640/640 [==============================] - 0s 52us/sample - loss: 0.4904 - accuracy: 0.7844 - val_loss: 0.4307 - val_accuracy: 0.8250\n",
      "Epoch 64/100\n",
      "640/640 [==============================] - 0s 48us/sample - loss: 0.4873 - accuracy: 0.7937 - val_loss: 0.5192 - val_accuracy: 0.7563\n",
      "Epoch 65/100\n",
      "640/640 [==============================] - 0s 50us/sample - loss: 0.4945 - accuracy: 0.7859 - val_loss: 0.4420 - val_accuracy: 0.8000\n",
      "Epoch 66/100\n",
      "640/640 [==============================] - 0s 51us/sample - loss: 0.4914 - accuracy: 0.7922 - val_loss: 0.4541 - val_accuracy: 0.7937\n",
      "Epoch 67/100\n",
      "640/640 [==============================] - 0s 50us/sample - loss: 0.4824 - accuracy: 0.7859 - val_loss: 0.4371 - val_accuracy: 0.8125\n",
      "Epoch 68/100\n",
      "640/640 [==============================] - 0s 50us/sample - loss: 0.4849 - accuracy: 0.7844 - val_loss: 0.4480 - val_accuracy: 0.7875\n",
      "Epoch 69/100\n",
      "640/640 [==============================] - 0s 52us/sample - loss: 0.4749 - accuracy: 0.7969 - val_loss: 0.4486 - val_accuracy: 0.8000\n",
      "Epoch 70/100\n",
      "640/640 [==============================] - 0s 50us/sample - loss: 0.4768 - accuracy: 0.8000 - val_loss: 0.4639 - val_accuracy: 0.7750\n",
      "Epoch 71/100\n",
      "640/640 [==============================] - 0s 50us/sample - loss: 0.4706 - accuracy: 0.7969 - val_loss: 0.4420 - val_accuracy: 0.7937\n",
      "Epoch 72/100\n",
      "640/640 [==============================] - 0s 51us/sample - loss: 0.4727 - accuracy: 0.8031 - val_loss: 0.5146 - val_accuracy: 0.7625\n",
      "Epoch 73/100\n",
      "640/640 [==============================] - 0s 50us/sample - loss: 0.4763 - accuracy: 0.8000 - val_loss: 0.4632 - val_accuracy: 0.8188\n",
      "Epoch 74/100\n",
      "640/640 [==============================] - 0s 78us/sample - loss: 0.4706 - accuracy: 0.8016 - val_loss: 0.4888 - val_accuracy: 0.7688\n",
      "Epoch 75/100\n",
      "640/640 [==============================] - 0s 58us/sample - loss: 0.4636 - accuracy: 0.8047 - val_loss: 0.4528 - val_accuracy: 0.7937\n",
      "Epoch 76/100\n",
      "640/640 [==============================] - 0s 50us/sample - loss: 0.4667 - accuracy: 0.8000 - val_loss: 0.4587 - val_accuracy: 0.7937\n",
      "Epoch 77/100\n",
      "640/640 [==============================] - 0s 51us/sample - loss: 0.4672 - accuracy: 0.8016 - val_loss: 0.4664 - val_accuracy: 0.8062\n",
      "Epoch 78/100\n",
      "640/640 [==============================] - 0s 50us/sample - loss: 0.4747 - accuracy: 0.7969 - val_loss: 0.4480 - val_accuracy: 0.7937\n",
      "Epoch 79/100\n",
      "640/640 [==============================] - 0s 50us/sample - loss: 0.4694 - accuracy: 0.8000 - val_loss: 0.4637 - val_accuracy: 0.7812\n",
      "Epoch 80/100\n",
      "640/640 [==============================] - 0s 51us/sample - loss: 0.4621 - accuracy: 0.8062 - val_loss: 0.4538 - val_accuracy: 0.7937\n",
      "Epoch 81/100\n",
      "640/640 [==============================] - 0s 48us/sample - loss: 0.4603 - accuracy: 0.8000 - val_loss: 0.4557 - val_accuracy: 0.7812\n",
      "Epoch 82/100\n",
      "640/640 [==============================] - 0s 50us/sample - loss: 0.4786 - accuracy: 0.7953 - val_loss: 0.4444 - val_accuracy: 0.7937\n",
      "Epoch 83/100\n",
      "640/640 [==============================] - 0s 50us/sample - loss: 0.4877 - accuracy: 0.7953 - val_loss: 0.4476 - val_accuracy: 0.8000\n"
     ]
    },
    {
     "data": {
      "text/plain": [
       "<tensorflow.python.keras.callbacks.History at 0x1c46e2845f8>"
      ]
     },
     "execution_count": 44,
     "metadata": {},
     "output_type": "execute_result"
    }
   ],
   "source": [
    "model_nn.fit(x=X_train,y=Y_train.values,epochs=100,validation_split=0.2,callbacks=[early_stop])"
   ]
  },
  {
   "cell_type": "code",
   "execution_count": 45,
   "metadata": {},
   "outputs": [
    {
     "name": "stdout",
     "output_type": "stream",
     "text": [
      "[[48  9]\n",
      " [ 7 25]]\n",
      "              precision    recall  f1-score   support\n",
      "\n",
      "           0       0.87      0.84      0.86        57\n",
      "           1       0.74      0.78      0.76        32\n",
      "\n",
      "    accuracy                           0.82        89\n",
      "   macro avg       0.80      0.81      0.81        89\n",
      "weighted avg       0.82      0.82      0.82        89\n",
      "\n"
     ]
    }
   ],
   "source": [
    "Y_predicted_nn=model_nn.predict_classes(X_test)\n",
    "print(confusion_matrix(Y_test,Y_predicted_nn))\n",
    "print(classification_report(Y_test,Y_predicted_nn))"
   ]
  },
  {
   "cell_type": "code",
   "execution_count": 46,
   "metadata": {},
   "outputs": [
    {
     "data": {
      "text/plain": [
       "<matplotlib.axes._subplots.AxesSubplot at 0x1c46f85b320>"
      ]
     },
     "execution_count": 46,
     "metadata": {},
     "output_type": "execute_result"
    },
    {
     "data": {
      "image/png": "[encoded data removed]",
      "text/plain": [
       "<Figure size 432x288 with 1 Axes>"
      ]
     },
     "metadata": {
      "needs_background": "light"
     },
     "output_type": "display_data"
    }
   ],
   "source": [
    "losses=pd.DataFrame(model_nn.history.history)\n",
    "losses[['loss','val_loss']].plot()"
   ]
  },
  {
   "cell_type": "code",
   "execution_count": 50,
   "metadata": {},
   "outputs": [],
   "source": [
    "test_prediction=model_rfc.predict(test.values)"
   ]
  },
  {
   "cell_type": "code",
   "execution_count": 51,
   "metadata": {},
   "outputs": [],
   "source": [
    "submission = pd.DataFrame({\n",
    "        \"PassengerId\": Id,\n",
    "        \"Survived\": test_prediction.reshape(-1,)\n",
    "    })\n",
    "submission.to_csv(r\"E:\\Kaggle\\titanic\\result.csv\",index=False,)"
   ]
  }
 ],
 "metadata": {
  "kernelspec": {
   "display_name": "Python 3",
   "language": "python",
   "name": "python3"
  },
  "language_info": {
   "codemirror_mode": {
    "name": "ipython",
    "version": 3
   },
   "file_extension": ".py",
   "mimetype": "text/x-python",
   "name": "python",
   "nbconvert_exporter": "python",
   "pygments_lexer": "ipython3",
   "version": "3.7.1"
  }
 },
 "nbformat": 4,
 "nbformat_minor": 4
}
